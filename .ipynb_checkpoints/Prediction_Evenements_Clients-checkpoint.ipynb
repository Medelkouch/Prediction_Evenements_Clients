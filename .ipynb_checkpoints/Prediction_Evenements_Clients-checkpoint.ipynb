{
 "cells": [
  {
   "cell_type": "markdown",
   "metadata": {},
   "source": [
    "# Prédiction de l'Evenements Clients"
   ]
  },
  {
   "cell_type": "markdown",
   "metadata": {},
   "source": [
    "## 1. Introduction"
   ]
  },
  {
   "cell_type": "markdown",
   "metadata": {},
   "source": [
    "La vision à accomplir ce qui suit pour cette étude :\n",
    "\n",
    "1. Identifier et visualiser les facteurs qui contribuent au désengagement des clients :\n",
    "\n",
    "2. Construire un modèle de prédiction qui effectuera les opérations suivantes :\n",
    "\n",
    "    - Classifier si un client va se désabonner ou non.\n",
    "    - De préférence et en fonction des performances du modèle, choisir un modèle qui associera une probabilité au taux de désabonnement pour permettre au service client de cibler plus facilement les fruits à portée de main dans leurs efforts pour empêcher le désengagement"
   ]
  },
  {
   "cell_type": "markdown",
   "metadata": {},
   "source": [
    "## 2. Test et préparation de la DataSet"
   ]
  },
  {
   "cell_type": "markdown",
   "metadata": {},
   "source": [
    "Dans cette section, nous chercherons à explorer la structure de nos données : \n",
    "1. Pour comprendre l'espace d'entrée de Data set. \n",
    "2. Et pour préparer les ensembles pour les tâches exploratoires et prédictives comme décrit dans la section 1"
   ]
  },
  {
   "cell_type": "code",
   "execution_count": 1,
   "metadata": {},
   "outputs": [],
   "source": [
    "## BIBLIOTHÈQUES REQUISES\n",
    "# pour data wrangling \n",
    "import numpy as np\n",
    "import pandas as pd\n",
    "\n",
    "# pour visualisation\n",
    "import matplotlib.pyplot as plt\n",
    "%matplotlib inline\n",
    "import seaborn as sns\n",
    "pd.options.display.max_rows = None\n",
    "pd.options.display.max_columns = None\n",
    "import warnings"
   ]
  },
  {
   "cell_type": "code",
   "execution_count": 2,
   "metadata": {},
   "outputs": [
    {
     "data": {
      "text/plain": [
       "(10000, 14)"
      ]
     },
     "execution_count": 2,
     "metadata": {},
     "output_type": "execute_result"
    }
   ],
   "source": [
    "# Lire la data frame\n",
    "df = pd.read_csv(\"Upload_Data/Bank_Data.csv\", delimiter=',')\n",
    "df.shape"
   ]
  },
  {
   "cell_type": "markdown",
   "metadata": {},
   "source": [
    "Le Df a 1000 lignes avec 14 attributs. j'examine cela plus en détail pour identifier quels attributs seront nécessaires et quelle manipulation de données doit être effectuée avant l'analyse exploratoire et la modélisation de prédiction"
   ]
  },
  {
   "cell_type": "code",
   "execution_count": 3,
   "metadata": {},
   "outputs": [
    {
     "data": {
      "text/plain": [
       "RowNumber          0\n",
       "CustomerId         0\n",
       "Surname            0\n",
       "CreditScore        0\n",
       "Geography          0\n",
       "Gender             0\n",
       "Age                0\n",
       "Tenure             0\n",
       "Balance            0\n",
       "NumOfProducts      0\n",
       "HasCrCard          0\n",
       "IsActiveMember     0\n",
       "EstimatedSalary    0\n",
       "Exited             0\n",
       "dtype: int64"
      ]
     },
     "execution_count": 3,
     "metadata": {},
     "output_type": "execute_result"
    }
   ],
   "source": [
    "# Vérifier la liste des colonnes et les valeurs manquantes\n",
    "df.isnull().sum()"
   ]
  },
  {
   "cell_type": "markdown",
   "metadata": {},
   "source": [
    "pas de valeurs manquantes !"
   ]
  },
  {
   "cell_type": "code",
   "execution_count": 4,
   "metadata": {},
   "outputs": [
    {
     "data": {
      "text/plain": [
       "RowNumber          10000\n",
       "CustomerId         10000\n",
       "Surname             2932\n",
       "CreditScore          460\n",
       "Geography              3\n",
       "Gender                 2\n",
       "Age                   70\n",
       "Tenure                11\n",
       "Balance             6382\n",
       "NumOfProducts          4\n",
       "HasCrCard              2\n",
       "IsActiveMember         2\n",
       "EstimatedSalary     9999\n",
       "Exited                 2\n",
       "dtype: int64"
      ]
     },
     "execution_count": 4,
     "metadata": {},
     "output_type": "execute_result"
    }
   ],
   "source": [
    "# Obtenir un nombre unique pour chaque variable\n",
    "df.nunique()"
   ]
  },
  {
   "cell_type": "markdown",
   "metadata": {},
   "source": [
    "D'après ce qui précède, nous n'exigerons pas les 2 premiers attributs car ils sont spécifiques à un client. Il est à la limite du nom de famille car cela entraînerait un profilage, je l'exclue donc également."
   ]
  },
  {
   "cell_type": "code",
   "execution_count": 5,
   "metadata": {},
   "outputs": [],
   "source": [
    "# Drop les colonnes comme expliqué ci-dessus\n",
    "df = df.drop([\"RowNumber\", \"CustomerId\", \"Surname\"], axis = 1)"
   ]
  },
  {
   "cell_type": "code",
   "execution_count": 6,
   "metadata": {},
   "outputs": [
    {
     "data": {
      "text/html": [
       "<div>\n",
       "<style scoped>\n",
       "    .dataframe tbody tr th:only-of-type {\n",
       "        vertical-align: middle;\n",
       "    }\n",
       "\n",
       "    .dataframe tbody tr th {\n",
       "        vertical-align: top;\n",
       "    }\n",
       "\n",
       "    .dataframe thead th {\n",
       "        text-align: right;\n",
       "    }\n",
       "</style>\n",
       "<table border=\"1\" class=\"dataframe\">\n",
       "  <thead>\n",
       "    <tr style=\"text-align: right;\">\n",
       "      <th></th>\n",
       "      <th>CreditScore</th>\n",
       "      <th>Geography</th>\n",
       "      <th>Gender</th>\n",
       "      <th>Age</th>\n",
       "      <th>Tenure</th>\n",
       "      <th>Balance</th>\n",
       "      <th>NumOfProducts</th>\n",
       "      <th>HasCrCard</th>\n",
       "      <th>IsActiveMember</th>\n",
       "      <th>EstimatedSalary</th>\n",
       "      <th>Exited</th>\n",
       "    </tr>\n",
       "  </thead>\n",
       "  <tbody>\n",
       "    <tr>\n",
       "      <th>0</th>\n",
       "      <td>619</td>\n",
       "      <td>France</td>\n",
       "      <td>Female</td>\n",
       "      <td>42</td>\n",
       "      <td>2</td>\n",
       "      <td>0.00</td>\n",
       "      <td>1</td>\n",
       "      <td>1</td>\n",
       "      <td>1</td>\n",
       "      <td>101348.88</td>\n",
       "      <td>1</td>\n",
       "    </tr>\n",
       "    <tr>\n",
       "      <th>1</th>\n",
       "      <td>608</td>\n",
       "      <td>Spain</td>\n",
       "      <td>Female</td>\n",
       "      <td>41</td>\n",
       "      <td>1</td>\n",
       "      <td>83807.86</td>\n",
       "      <td>1</td>\n",
       "      <td>0</td>\n",
       "      <td>1</td>\n",
       "      <td>112542.58</td>\n",
       "      <td>0</td>\n",
       "    </tr>\n",
       "    <tr>\n",
       "      <th>2</th>\n",
       "      <td>502</td>\n",
       "      <td>France</td>\n",
       "      <td>Female</td>\n",
       "      <td>42</td>\n",
       "      <td>8</td>\n",
       "      <td>159660.80</td>\n",
       "      <td>3</td>\n",
       "      <td>1</td>\n",
       "      <td>0</td>\n",
       "      <td>113931.57</td>\n",
       "      <td>1</td>\n",
       "    </tr>\n",
       "    <tr>\n",
       "      <th>3</th>\n",
       "      <td>699</td>\n",
       "      <td>France</td>\n",
       "      <td>Female</td>\n",
       "      <td>39</td>\n",
       "      <td>1</td>\n",
       "      <td>0.00</td>\n",
       "      <td>2</td>\n",
       "      <td>0</td>\n",
       "      <td>0</td>\n",
       "      <td>93826.63</td>\n",
       "      <td>0</td>\n",
       "    </tr>\n",
       "    <tr>\n",
       "      <th>4</th>\n",
       "      <td>850</td>\n",
       "      <td>Spain</td>\n",
       "      <td>Female</td>\n",
       "      <td>43</td>\n",
       "      <td>2</td>\n",
       "      <td>125510.82</td>\n",
       "      <td>1</td>\n",
       "      <td>1</td>\n",
       "      <td>1</td>\n",
       "      <td>79084.10</td>\n",
       "      <td>0</td>\n",
       "    </tr>\n",
       "  </tbody>\n",
       "</table>\n",
       "</div>"
      ],
      "text/plain": [
       "   CreditScore Geography  Gender  Age  Tenure    Balance  NumOfProducts  \\\n",
       "0          619    France  Female   42       2       0.00              1   \n",
       "1          608     Spain  Female   41       1   83807.86              1   \n",
       "2          502    France  Female   42       8  159660.80              3   \n",
       "3          699    France  Female   39       1       0.00              2   \n",
       "4          850     Spain  Female   43       2  125510.82              1   \n",
       "\n",
       "   HasCrCard  IsActiveMember  EstimatedSalary  Exited  \n",
       "0          1               1        101348.88       1  \n",
       "1          0               1        112542.58       0  \n",
       "2          1               0        113931.57       1  \n",
       "3          0               0         93826.63       0  \n",
       "4          1               1         79084.10       0  "
      ]
     },
     "execution_count": 6,
     "metadata": {},
     "output_type": "execute_result"
    }
   ],
   "source": [
    "# Revoir les premières lignes de ce qui reste du bloc de données\n",
    "df.head()"
   ]
  },
  {
   "cell_type": "markdown",
   "metadata": {},
   "source": [
    "De ce qui précède, quelques questions subsistent :\n",
    "\n",
    "1. Les données semblent être un instantané à un moment donné, par ex. le solde est pour une date donnée ce qui laisse beaucoup de questions :\n",
    "    - De quelle date s'agit-il et de quelle importance cette date est-elle ?\n",
    "    - Serait-il possible d'obtenir des soldes sur une période de temps plutôt que sur une seule date ?\n",
    "2. Il y a des clients qui sont sortis mais qui ont encore un solde sur leur compte ! Qu'est-ce que cela signifierait? Auraient-ils pu sortir d'un produit et non de la banque ?\n",
    "3. Que signifie être un membre actif et y a-t-il des degrés différents? Serait-il préférable de fournir le nombre de transactions à la fois en termes de crédits et de débits sur le compte ?\n",
    "4. Une ventilation des produits achetés par un client pourrait fournir plus d'informations en tête de liste du nombre de produits.\n",
    "\n",
    "Pour cet exercice, je procéde à la modélisation sans contexte même si généralement avoir un contexte et une meilleure compréhension du processus d'extraction de données donnerait une meilleure idée et conduirait peut-être à des résultats meilleurs et contextuels du processus de modélisation."
   ]
  },
  {
   "cell_type": "code",
   "execution_count": 7,
   "metadata": {},
   "outputs": [
    {
     "data": {
      "text/plain": [
       "CreditScore          int64\n",
       "Geography           object\n",
       "Gender              object\n",
       "Age                  int64\n",
       "Tenure               int64\n",
       "Balance            float64\n",
       "NumOfProducts        int64\n",
       "HasCrCard            int64\n",
       "IsActiveMember       int64\n",
       "EstimatedSalary    float64\n",
       "Exited               int64\n",
       "dtype: object"
      ]
     },
     "execution_count": 7,
     "metadata": {},
     "output_type": "execute_result"
    }
   ],
   "source": [
    "# Vérifier les types de données variables\n",
    "df.dtypes"
   ]
  },
  {
   "cell_type": "markdown",
   "metadata": {},
   "source": [
    "On a donc majoritairement des variables catégorielles et 5 variables continues"
   ]
  },
  {
   "cell_type": "markdown",
   "metadata": {},
   "source": [
    "## 3. Explorer Data Analysis"
   ]
  },
  {
   "cell_type": "markdown",
   "metadata": {},
   "source": [
    "Ici, notre principal intérêt est de comprendre comment les attributs donnés se rapportent au statut 'Exit'."
   ]
  },
  {
   "cell_type": "code",
   "execution_count": 8,
   "metadata": {},
   "outputs": [
    {
     "data": {
      "image/png": "[encoded data removed]",
      "text/plain": [
       "<Figure size 720x576 with 1 Axes>"
      ]
     },
     "metadata": {},
     "output_type": "display_data"
    }
   ],
   "source": [
    "labels = 'Désengager', 'Engager'\n",
    "sizes = [df.Exited[df['Exited']==1].count(), df.Exited[df['Exited']==0].count()]\n",
    "explode = (0, 0.1)\n",
    "fig1, ax1 = plt.subplots(figsize=(10, 8))\n",
    "ax1.pie(sizes, explode=explode, labels=labels, autopct='%1.1f%%',\n",
    "        shadow=True, startangle=90)\n",
    "ax1.axis('equal')\n",
    "plt.title(\"Proportion des clients désengager et engager\", size = 20)\n",
    "plt.show()"
   ]
  },
  {
   "cell_type": "markdown",
   "metadata": {},
   "source": [
    "Environ 20% des clients ont désengagés. Ainsi, le modèle de référence pourrait être de prédire que 20 % des clients seront désengagés. Étant donné que 20 % est un petit nombre, nous devons nous assurer que le modèle choisi prédit avec une grande précision ces 20 %, car il est dans l'intérêt de la banque d'identifier et de conserver ce groupe plutôt que de prédire avec précision les clients engager."
   ]
  },
  {
   "cell_type": "code",
   "execution_count": 9,
   "metadata": {},
   "outputs": [
    {
     "data": {
      "text/plain": [
       "<AxesSubplot:xlabel='IsActiveMember', ylabel='count'>"
      ]
     },
     "execution_count": 9,
     "metadata": {},
     "output_type": "execute_result"
    },
    {
     "data": {
      "image/png": "[encoded data removed]",
      "text/plain": [
       "<Figure size 1440x864 with 4 Axes>"
      ]
     },
     "metadata": {
      "needs_background": "light"
     },
     "output_type": "display_data"
    }
   ],
   "source": [
    "# Examiner d'abord la relation « Status » avec les variables catégorielles\n",
    "fig, axarr = plt.subplots(2, 2, figsize=(20, 12))\n",
    "sns.countplot(x='Geography', hue = 'Exited',data = df, ax=axarr[0][0])\n",
    "sns.countplot(x='Gender', hue = 'Exited',data = df, ax=axarr[0][1])\n",
    "sns.countplot(x='HasCrCard', hue = 'Exited',data = df, ax=axarr[1][0])\n",
    "sns.countplot(x='IsActiveMember', hue = 'Exited',data = df, ax=axarr[1][1])"
   ]
  },
  {
   "cell_type": "markdown",
   "metadata": {},
   "source": [
    "Noter ce qui suit :\n",
    "\n",
    "- La majorité des données proviennent de personnes de France. Cependant, la proportion de clients désengager est inversement liée à la population de clients faisant allusion au fait que la banque a éventuellement un problème (peut-être pas assez de ressources de service client allouées) dans les zones où elle a moins de clients.\n",
    "- La proportion de clients féminins désengagées est également supérieure à celle des clients masculins.\n",
    "- La majorité des clients qui sont désengagés  sont ceux avec des cartes de crédit. Étant donné que la majorité des clients ont des cartes de crédit, il pourrait s'agir d'une simple coïncidence.\n",
    "- Les membres inactifs ont un taux de désengagement plus important. Il est inquiétant de constater que la proportion globale de membres inactifs est assez élevée, ce qui suggère que la banque pourrait avoir besoin d'un programme mis en œuvre pour transformer ce groupe en clients actifs, car cela aura certainement un impact positif sur le taux de désengagement des clients."
   ]
  },
  {
   "cell_type": "code",
   "execution_count": 10,
   "metadata": {},
   "outputs": [
    {
     "data": {
      "text/plain": [
       "<AxesSubplot:xlabel='Exited', ylabel='EstimatedSalary'>"
      ]
     },
     "execution_count": 10,
     "metadata": {},
     "output_type": "execute_result"
    },
    {
     "data": {
      "image/png": "[encoded data removed]",
      "text/plain": [
       "<Figure size 1440x864 with 6 Axes>"
      ]
     },
     "metadata": {
      "needs_background": "light"
     },
     "output_type": "display_data"
    }
   ],
   "source": [
    "# Relations basées sur les attributs de données continues\n",
    "fig, axarr = plt.subplots(3, 2, figsize=(20, 12))\n",
    "sns.boxplot(y='CreditScore',x = 'Exited', hue = 'Exited',data = df, ax=axarr[0][0])\n",
    "sns.boxplot(y='Age',x = 'Exited', hue = 'Exited',data = df , ax=axarr[0][1])\n",
    "sns.boxplot(y='Tenure',x = 'Exited', hue = 'Exited',data = df, ax=axarr[1][0])\n",
    "sns.boxplot(y='Balance',x = 'Exited', hue = 'Exited',data = df, ax=axarr[1][1])\n",
    "sns.boxplot(y='NumOfProducts',x = 'Exited', hue = 'Exited',data = df, ax=axarr[2][0])\n",
    "sns.boxplot(y='EstimatedSalary',x = 'Exited', hue = 'Exited',data = df, ax=axarr[2][1])"
   ]
  },
  {
   "cell_type": "markdown",
   "metadata": {},
   "source": [
    "Noter ce qui suit :\n",
    "\n",
    "- Il n'y a pas de différence significative dans la répartition du pointage de crédit entre les clients engager et les clients désengagés.\n",
    "- Les clients plus âgés sont plus nombreux que les plus jeunes, faisant allusion à une différence de préférence de service dans les catégories d'âge. La banque peut avoir besoin de revoir son marché cible ou de revoir la stratégie de rétention entre les différents groupes d'âge\n",
    "- En ce qui concerne l'ancienneté, les clients aux extrémités (passé peu de temps avec la banque ou beaucoup de temps avec la banque) sont plus susceptibles de se désengager que ceux qui ont une ancienneté moyenne.\n",
    "- De manière inquiétante, la banque perd des clients avec des soldes bancaires importants, ce qui risque d'affecter leur capital disponible pour les prêts.\n",
    "- Ni le produit ni le salaire n'ont d'effet significatif sur la probabilité de désgagement."
   ]
  },
  {
   "cell_type": "markdown",
   "metadata": {},
   "source": [
    "chercher à ajouter des fonctionnalités susceptibles d'avoir un impact sur la probabilité de barattage. Avoir d'abord divisé le train et les ensembles de test"
   ]
  },
  {
   "cell_type": "code",
   "execution_count": 11,
   "metadata": {},
   "outputs": [
    {
     "name": "stdout",
     "output_type": "stream",
     "text": [
      "8000\n",
      "2000\n"
     ]
    }
   ],
   "source": [
    "# Split Train, test data\n",
    "df_train = df.sample(frac=0.8,random_state=200)\n",
    "df_test = df.drop(df_train.index)\n",
    "print(len(df_train))\n",
    "print(len(df_test))"
   ]
  },
  {
   "cell_type": "code",
   "execution_count": 12,
   "metadata": {},
   "outputs": [
    {
     "data": {
      "text/plain": [
       "(-1.0, 5.0)"
      ]
     },
     "execution_count": 12,
     "metadata": {},
     "output_type": "execute_result"
    },
    {
     "data": {
      "image/png": "[encoded data removed]",
      "text/plain": [
       "<Figure size 432x288 with 1 Axes>"
      ]
     },
     "metadata": {
      "needs_background": "light"
     },
     "output_type": "display_data"
    }
   ],
   "source": [
    "df_train['BalanceSalaryRatio'] = df_train.Balance/df_train.EstimatedSalary\n",
    "sns.boxplot(y='BalanceSalaryRatio',x = 'Exited', hue = 'Exited',data = df_train)\n",
    "plt.ylim(-1, 5)"
   ]
  },
  {
   "cell_type": "markdown",
   "metadata": {},
   "source": [
    "Avoir vu que le salaire a peu d'effet sur les chances de désengagement d'un client. Cependant, comme vu ci-dessus, le ratio du solde bancaire et du salaire estimé indique que les clients avec un ratio de salaire de solde plus élevé chutent davantage, ce qui serait inquiétant pour la banque car cela impacte leur source de capital d'emprunt."
   ]
  },
  {
   "cell_type": "code",
   "execution_count": 13,
   "metadata": {},
   "outputs": [
    {
     "data": {
      "image/png": "[encoded data removed]",
      "text/plain": [
       "<Figure size 432x288 with 1 Axes>"
      ]
     },
     "metadata": {
      "needs_background": "light"
     },
     "output_type": "display_data"
    }
   ],
   "source": [
    "# Étant donné que l'ancienneté est une « fonction » de l'âge, nous introduisons une variable visant à standardiser l'ancienneté en fonction de l'âge:\n",
    "df_train['TenureByAge'] = df_train.Tenure/(df_train.Age)\n",
    "sns.boxplot(y='TenureByAge',x = 'Exited', hue = 'Exited',data = df_train)\n",
    "plt.ylim(-1, 1)\n",
    "plt.show()"
   ]
  },
  {
   "cell_type": "code",
   "execution_count": 14,
   "metadata": {},
   "outputs": [],
   "source": [
    "'''Introduire une variable pour capturer le score de crédit en fonction de l'âge pour prendre en compte le comportement de crédit vis-à-vis de la vie adulte :-)'''\n",
    "df_train['CreditScoreGivenAge'] = df_train.CreditScore/(df_train.Age)"
   ]
  },
  {
   "cell_type": "code",
   "execution_count": 15,
   "metadata": {},
   "outputs": [
    {
     "data": {
      "text/html": [
       "<div>\n",
       "<style scoped>\n",
       "    .dataframe tbody tr th:only-of-type {\n",
       "        vertical-align: middle;\n",
       "    }\n",
       "\n",
       "    .dataframe tbody tr th {\n",
       "        vertical-align: top;\n",
       "    }\n",
       "\n",
       "    .dataframe thead th {\n",
       "        text-align: right;\n",
       "    }\n",
       "</style>\n",
       "<table border=\"1\" class=\"dataframe\">\n",
       "  <thead>\n",
       "    <tr style=\"text-align: right;\">\n",
       "      <th></th>\n",
       "      <th>CreditScore</th>\n",
       "      <th>Geography</th>\n",
       "      <th>Gender</th>\n",
       "      <th>Age</th>\n",
       "      <th>Tenure</th>\n",
       "      <th>Balance</th>\n",
       "      <th>NumOfProducts</th>\n",
       "      <th>HasCrCard</th>\n",
       "      <th>IsActiveMember</th>\n",
       "      <th>EstimatedSalary</th>\n",
       "      <th>Exited</th>\n",
       "      <th>BalanceSalaryRatio</th>\n",
       "      <th>TenureByAge</th>\n",
       "      <th>CreditScoreGivenAge</th>\n",
       "    </tr>\n",
       "  </thead>\n",
       "  <tbody>\n",
       "    <tr>\n",
       "      <th>8159</th>\n",
       "      <td>461</td>\n",
       "      <td>Spain</td>\n",
       "      <td>Female</td>\n",
       "      <td>25</td>\n",
       "      <td>6</td>\n",
       "      <td>0.00</td>\n",
       "      <td>2</td>\n",
       "      <td>1</td>\n",
       "      <td>1</td>\n",
       "      <td>15306.29</td>\n",
       "      <td>0</td>\n",
       "      <td>0.000000</td>\n",
       "      <td>0.240000</td>\n",
       "      <td>18.440000</td>\n",
       "    </tr>\n",
       "    <tr>\n",
       "      <th>6332</th>\n",
       "      <td>619</td>\n",
       "      <td>France</td>\n",
       "      <td>Female</td>\n",
       "      <td>35</td>\n",
       "      <td>4</td>\n",
       "      <td>90413.12</td>\n",
       "      <td>1</td>\n",
       "      <td>1</td>\n",
       "      <td>1</td>\n",
       "      <td>20555.21</td>\n",
       "      <td>0</td>\n",
       "      <td>4.398550</td>\n",
       "      <td>0.114286</td>\n",
       "      <td>17.685714</td>\n",
       "    </tr>\n",
       "    <tr>\n",
       "      <th>8895</th>\n",
       "      <td>699</td>\n",
       "      <td>France</td>\n",
       "      <td>Female</td>\n",
       "      <td>40</td>\n",
       "      <td>8</td>\n",
       "      <td>122038.34</td>\n",
       "      <td>1</td>\n",
       "      <td>1</td>\n",
       "      <td>0</td>\n",
       "      <td>102085.35</td>\n",
       "      <td>0</td>\n",
       "      <td>1.195454</td>\n",
       "      <td>0.200000</td>\n",
       "      <td>17.475000</td>\n",
       "    </tr>\n",
       "    <tr>\n",
       "      <th>5351</th>\n",
       "      <td>558</td>\n",
       "      <td>Germany</td>\n",
       "      <td>Male</td>\n",
       "      <td>41</td>\n",
       "      <td>2</td>\n",
       "      <td>124227.14</td>\n",
       "      <td>1</td>\n",
       "      <td>1</td>\n",
       "      <td>1</td>\n",
       "      <td>111184.67</td>\n",
       "      <td>0</td>\n",
       "      <td>1.117305</td>\n",
       "      <td>0.048780</td>\n",
       "      <td>13.609756</td>\n",
       "    </tr>\n",
       "    <tr>\n",
       "      <th>4314</th>\n",
       "      <td>638</td>\n",
       "      <td>France</td>\n",
       "      <td>Male</td>\n",
       "      <td>34</td>\n",
       "      <td>5</td>\n",
       "      <td>133501.36</td>\n",
       "      <td>1</td>\n",
       "      <td>0</td>\n",
       "      <td>1</td>\n",
       "      <td>155643.04</td>\n",
       "      <td>0</td>\n",
       "      <td>0.857741</td>\n",
       "      <td>0.147059</td>\n",
       "      <td>18.764706</td>\n",
       "    </tr>\n",
       "  </tbody>\n",
       "</table>\n",
       "</div>"
      ],
      "text/plain": [
       "      CreditScore Geography  Gender  Age  Tenure    Balance  NumOfProducts  \\\n",
       "8159          461     Spain  Female   25       6       0.00              2   \n",
       "6332          619    France  Female   35       4   90413.12              1   \n",
       "8895          699    France  Female   40       8  122038.34              1   \n",
       "5351          558   Germany    Male   41       2  124227.14              1   \n",
       "4314          638    France    Male   34       5  133501.36              1   \n",
       "\n",
       "      HasCrCard  IsActiveMember  EstimatedSalary  Exited  BalanceSalaryRatio  \\\n",
       "8159          1               1         15306.29       0            0.000000   \n",
       "6332          1               1         20555.21       0            4.398550   \n",
       "8895          1               0        102085.35       0            1.195454   \n",
       "5351          1               1        111184.67       0            1.117305   \n",
       "4314          0               1        155643.04       0            0.857741   \n",
       "\n",
       "      TenureByAge  CreditScoreGivenAge  \n",
       "8159     0.240000            18.440000  \n",
       "6332     0.114286            17.685714  \n",
       "8895     0.200000            17.475000  \n",
       "5351     0.048780            13.609756  \n",
       "4314     0.147059            18.764706  "
      ]
     },
     "execution_count": 15,
     "metadata": {},
     "output_type": "execute_result"
    }
   ],
   "source": [
    "# Résultat Data Frame\n",
    "df_train.head()"
   ]
  },
  {
   "cell_type": "markdown",
   "metadata": {},
   "source": [
    "## 5. Préparation des données pour l'ajustement du modèle"
   ]
  },
  {
   "cell_type": "code",
   "execution_count": 16,
   "metadata": {},
   "outputs": [
    {
     "data": {
      "text/html": [
       "<div>\n",
       "<style scoped>\n",
       "    .dataframe tbody tr th:only-of-type {\n",
       "        vertical-align: middle;\n",
       "    }\n",
       "\n",
       "    .dataframe tbody tr th {\n",
       "        vertical-align: top;\n",
       "    }\n",
       "\n",
       "    .dataframe thead th {\n",
       "        text-align: right;\n",
       "    }\n",
       "</style>\n",
       "<table border=\"1\" class=\"dataframe\">\n",
       "  <thead>\n",
       "    <tr style=\"text-align: right;\">\n",
       "      <th></th>\n",
       "      <th>Exited</th>\n",
       "      <th>CreditScore</th>\n",
       "      <th>Age</th>\n",
       "      <th>Tenure</th>\n",
       "      <th>Balance</th>\n",
       "      <th>NumOfProducts</th>\n",
       "      <th>EstimatedSalary</th>\n",
       "      <th>BalanceSalaryRatio</th>\n",
       "      <th>TenureByAge</th>\n",
       "      <th>CreditScoreGivenAge</th>\n",
       "      <th>HasCrCard</th>\n",
       "      <th>IsActiveMember</th>\n",
       "      <th>Geography</th>\n",
       "      <th>Gender</th>\n",
       "    </tr>\n",
       "  </thead>\n",
       "  <tbody>\n",
       "    <tr>\n",
       "      <th>8159</th>\n",
       "      <td>0</td>\n",
       "      <td>461</td>\n",
       "      <td>25</td>\n",
       "      <td>6</td>\n",
       "      <td>0.00</td>\n",
       "      <td>2</td>\n",
       "      <td>15306.29</td>\n",
       "      <td>0.000000</td>\n",
       "      <td>0.240000</td>\n",
       "      <td>18.440000</td>\n",
       "      <td>1</td>\n",
       "      <td>1</td>\n",
       "      <td>Spain</td>\n",
       "      <td>Female</td>\n",
       "    </tr>\n",
       "    <tr>\n",
       "      <th>6332</th>\n",
       "      <td>0</td>\n",
       "      <td>619</td>\n",
       "      <td>35</td>\n",
       "      <td>4</td>\n",
       "      <td>90413.12</td>\n",
       "      <td>1</td>\n",
       "      <td>20555.21</td>\n",
       "      <td>4.398550</td>\n",
       "      <td>0.114286</td>\n",
       "      <td>17.685714</td>\n",
       "      <td>1</td>\n",
       "      <td>1</td>\n",
       "      <td>France</td>\n",
       "      <td>Female</td>\n",
       "    </tr>\n",
       "    <tr>\n",
       "      <th>8895</th>\n",
       "      <td>0</td>\n",
       "      <td>699</td>\n",
       "      <td>40</td>\n",
       "      <td>8</td>\n",
       "      <td>122038.34</td>\n",
       "      <td>1</td>\n",
       "      <td>102085.35</td>\n",
       "      <td>1.195454</td>\n",
       "      <td>0.200000</td>\n",
       "      <td>17.475000</td>\n",
       "      <td>1</td>\n",
       "      <td>0</td>\n",
       "      <td>France</td>\n",
       "      <td>Female</td>\n",
       "    </tr>\n",
       "    <tr>\n",
       "      <th>5351</th>\n",
       "      <td>0</td>\n",
       "      <td>558</td>\n",
       "      <td>41</td>\n",
       "      <td>2</td>\n",
       "      <td>124227.14</td>\n",
       "      <td>1</td>\n",
       "      <td>111184.67</td>\n",
       "      <td>1.117305</td>\n",
       "      <td>0.048780</td>\n",
       "      <td>13.609756</td>\n",
       "      <td>1</td>\n",
       "      <td>1</td>\n",
       "      <td>Germany</td>\n",
       "      <td>Male</td>\n",
       "    </tr>\n",
       "    <tr>\n",
       "      <th>4314</th>\n",
       "      <td>0</td>\n",
       "      <td>638</td>\n",
       "      <td>34</td>\n",
       "      <td>5</td>\n",
       "      <td>133501.36</td>\n",
       "      <td>1</td>\n",
       "      <td>155643.04</td>\n",
       "      <td>0.857741</td>\n",
       "      <td>0.147059</td>\n",
       "      <td>18.764706</td>\n",
       "      <td>0</td>\n",
       "      <td>1</td>\n",
       "      <td>France</td>\n",
       "      <td>Male</td>\n",
       "    </tr>\n",
       "  </tbody>\n",
       "</table>\n",
       "</div>"
      ],
      "text/plain": [
       "      Exited  CreditScore  Age  Tenure    Balance  NumOfProducts  \\\n",
       "8159       0          461   25       6       0.00              2   \n",
       "6332       0          619   35       4   90413.12              1   \n",
       "8895       0          699   40       8  122038.34              1   \n",
       "5351       0          558   41       2  124227.14              1   \n",
       "4314       0          638   34       5  133501.36              1   \n",
       "\n",
       "      EstimatedSalary  BalanceSalaryRatio  TenureByAge  CreditScoreGivenAge  \\\n",
       "8159         15306.29            0.000000     0.240000            18.440000   \n",
       "6332         20555.21            4.398550     0.114286            17.685714   \n",
       "8895        102085.35            1.195454     0.200000            17.475000   \n",
       "5351        111184.67            1.117305     0.048780            13.609756   \n",
       "4314        155643.04            0.857741     0.147059            18.764706   \n",
       "\n",
       "      HasCrCard  IsActiveMember Geography  Gender  \n",
       "8159          1               1     Spain  Female  \n",
       "6332          1               1    France  Female  \n",
       "8895          1               0    France  Female  \n",
       "5351          1               1   Germany    Male  \n",
       "4314          0               1    France    Male  "
      ]
     },
     "execution_count": 16,
     "metadata": {},
     "output_type": "execute_result"
    }
   ],
   "source": [
    "# Organiser les colonnes par type de données pour une manipulation plus facile\n",
    "continuous_vars = ['CreditScore',  'Age', 'Tenure', 'Balance','NumOfProducts', 'EstimatedSalary', 'BalanceSalaryRatio',\n",
    "                   'TenureByAge','CreditScoreGivenAge']\n",
    "cat_vars = ['HasCrCard', 'IsActiveMember','Geography', 'Gender']\n",
    "df_train = df_train[['Exited'] + continuous_vars + cat_vars]\n",
    "df_train.head()"
   ]
  },
  {
   "cell_type": "code",
   "execution_count": 17,
   "metadata": {},
   "outputs": [
    {
     "data": {
      "text/html": [
       "<div>\n",
       "<style scoped>\n",
       "    .dataframe tbody tr th:only-of-type {\n",
       "        vertical-align: middle;\n",
       "    }\n",
       "\n",
       "    .dataframe tbody tr th {\n",
       "        vertical-align: top;\n",
       "    }\n",
       "\n",
       "    .dataframe thead th {\n",
       "        text-align: right;\n",
       "    }\n",
       "</style>\n",
       "<table border=\"1\" class=\"dataframe\">\n",
       "  <thead>\n",
       "    <tr style=\"text-align: right;\">\n",
       "      <th></th>\n",
       "      <th>Exited</th>\n",
       "      <th>CreditScore</th>\n",
       "      <th>Age</th>\n",
       "      <th>Tenure</th>\n",
       "      <th>Balance</th>\n",
       "      <th>NumOfProducts</th>\n",
       "      <th>EstimatedSalary</th>\n",
       "      <th>BalanceSalaryRatio</th>\n",
       "      <th>TenureByAge</th>\n",
       "      <th>CreditScoreGivenAge</th>\n",
       "      <th>HasCrCard</th>\n",
       "      <th>IsActiveMember</th>\n",
       "      <th>Geography</th>\n",
       "      <th>Gender</th>\n",
       "    </tr>\n",
       "  </thead>\n",
       "  <tbody>\n",
       "    <tr>\n",
       "      <th>8159</th>\n",
       "      <td>0</td>\n",
       "      <td>461</td>\n",
       "      <td>25</td>\n",
       "      <td>6</td>\n",
       "      <td>0.00</td>\n",
       "      <td>2</td>\n",
       "      <td>15306.29</td>\n",
       "      <td>0.000000</td>\n",
       "      <td>0.240000</td>\n",
       "      <td>18.440000</td>\n",
       "      <td>1</td>\n",
       "      <td>1</td>\n",
       "      <td>Spain</td>\n",
       "      <td>Female</td>\n",
       "    </tr>\n",
       "    <tr>\n",
       "      <th>6332</th>\n",
       "      <td>0</td>\n",
       "      <td>619</td>\n",
       "      <td>35</td>\n",
       "      <td>4</td>\n",
       "      <td>90413.12</td>\n",
       "      <td>1</td>\n",
       "      <td>20555.21</td>\n",
       "      <td>4.398550</td>\n",
       "      <td>0.114286</td>\n",
       "      <td>17.685714</td>\n",
       "      <td>1</td>\n",
       "      <td>1</td>\n",
       "      <td>France</td>\n",
       "      <td>Female</td>\n",
       "    </tr>\n",
       "    <tr>\n",
       "      <th>8895</th>\n",
       "      <td>0</td>\n",
       "      <td>699</td>\n",
       "      <td>40</td>\n",
       "      <td>8</td>\n",
       "      <td>122038.34</td>\n",
       "      <td>1</td>\n",
       "      <td>102085.35</td>\n",
       "      <td>1.195454</td>\n",
       "      <td>0.200000</td>\n",
       "      <td>17.475000</td>\n",
       "      <td>1</td>\n",
       "      <td>-1</td>\n",
       "      <td>France</td>\n",
       "      <td>Female</td>\n",
       "    </tr>\n",
       "    <tr>\n",
       "      <th>5351</th>\n",
       "      <td>0</td>\n",
       "      <td>558</td>\n",
       "      <td>41</td>\n",
       "      <td>2</td>\n",
       "      <td>124227.14</td>\n",
       "      <td>1</td>\n",
       "      <td>111184.67</td>\n",
       "      <td>1.117305</td>\n",
       "      <td>0.048780</td>\n",
       "      <td>13.609756</td>\n",
       "      <td>1</td>\n",
       "      <td>1</td>\n",
       "      <td>Germany</td>\n",
       "      <td>Male</td>\n",
       "    </tr>\n",
       "    <tr>\n",
       "      <th>4314</th>\n",
       "      <td>0</td>\n",
       "      <td>638</td>\n",
       "      <td>34</td>\n",
       "      <td>5</td>\n",
       "      <td>133501.36</td>\n",
       "      <td>1</td>\n",
       "      <td>155643.04</td>\n",
       "      <td>0.857741</td>\n",
       "      <td>0.147059</td>\n",
       "      <td>18.764706</td>\n",
       "      <td>-1</td>\n",
       "      <td>1</td>\n",
       "      <td>France</td>\n",
       "      <td>Male</td>\n",
       "    </tr>\n",
       "  </tbody>\n",
       "</table>\n",
       "</div>"
      ],
      "text/plain": [
       "      Exited  CreditScore  Age  Tenure    Balance  NumOfProducts  \\\n",
       "8159       0          461   25       6       0.00              2   \n",
       "6332       0          619   35       4   90413.12              1   \n",
       "8895       0          699   40       8  122038.34              1   \n",
       "5351       0          558   41       2  124227.14              1   \n",
       "4314       0          638   34       5  133501.36              1   \n",
       "\n",
       "      EstimatedSalary  BalanceSalaryRatio  TenureByAge  CreditScoreGivenAge  \\\n",
       "8159         15306.29            0.000000     0.240000            18.440000   \n",
       "6332         20555.21            4.398550     0.114286            17.685714   \n",
       "8895        102085.35            1.195454     0.200000            17.475000   \n",
       "5351        111184.67            1.117305     0.048780            13.609756   \n",
       "4314        155643.04            0.857741     0.147059            18.764706   \n",
       "\n",
       "      HasCrCard  IsActiveMember Geography  Gender  \n",
       "8159          1               1     Spain  Female  \n",
       "6332          1               1    France  Female  \n",
       "8895          1              -1    France  Female  \n",
       "5351          1               1   Germany    Male  \n",
       "4314         -1               1    France    Male  "
      ]
     },
     "execution_count": 17,
     "metadata": {},
     "output_type": "execute_result"
    }
   ],
   "source": [
    "'''Pour les variables, on modifiant 0 à -1 afin que les modèles puissent capturer une relation négative\n",
    "où l'attribut est inapplicable au lieu de 0'''\n",
    "df_train.loc[df_train.HasCrCard == 0, 'HasCrCard'] = -1\n",
    "df_train.loc[df_train.IsActiveMember == 0, 'IsActiveMember'] = -1\n",
    "df_train.head()"
   ]
  },
  {
   "cell_type": "code",
   "execution_count": 18,
   "metadata": {},
   "outputs": [
    {
     "data": {
      "text/html": [
       "<div>\n",
       "<style scoped>\n",
       "    .dataframe tbody tr th:only-of-type {\n",
       "        vertical-align: middle;\n",
       "    }\n",
       "\n",
       "    .dataframe tbody tr th {\n",
       "        vertical-align: top;\n",
       "    }\n",
       "\n",
       "    .dataframe thead th {\n",
       "        text-align: right;\n",
       "    }\n",
       "</style>\n",
       "<table border=\"1\" class=\"dataframe\">\n",
       "  <thead>\n",
       "    <tr style=\"text-align: right;\">\n",
       "      <th></th>\n",
       "      <th>Exited</th>\n",
       "      <th>CreditScore</th>\n",
       "      <th>Age</th>\n",
       "      <th>Tenure</th>\n",
       "      <th>Balance</th>\n",
       "      <th>NumOfProducts</th>\n",
       "      <th>EstimatedSalary</th>\n",
       "      <th>BalanceSalaryRatio</th>\n",
       "      <th>TenureByAge</th>\n",
       "      <th>CreditScoreGivenAge</th>\n",
       "      <th>HasCrCard</th>\n",
       "      <th>IsActiveMember</th>\n",
       "      <th>Geography_Spain</th>\n",
       "      <th>Geography_France</th>\n",
       "      <th>Geography_Germany</th>\n",
       "      <th>Gender_Female</th>\n",
       "      <th>Gender_Male</th>\n",
       "    </tr>\n",
       "  </thead>\n",
       "  <tbody>\n",
       "    <tr>\n",
       "      <th>8159</th>\n",
       "      <td>0</td>\n",
       "      <td>461</td>\n",
       "      <td>25</td>\n",
       "      <td>6</td>\n",
       "      <td>0.00</td>\n",
       "      <td>2</td>\n",
       "      <td>15306.29</td>\n",
       "      <td>0.000000</td>\n",
       "      <td>0.240000</td>\n",
       "      <td>18.440000</td>\n",
       "      <td>1</td>\n",
       "      <td>1</td>\n",
       "      <td>1</td>\n",
       "      <td>-1</td>\n",
       "      <td>-1</td>\n",
       "      <td>1</td>\n",
       "      <td>-1</td>\n",
       "    </tr>\n",
       "    <tr>\n",
       "      <th>6332</th>\n",
       "      <td>0</td>\n",
       "      <td>619</td>\n",
       "      <td>35</td>\n",
       "      <td>4</td>\n",
       "      <td>90413.12</td>\n",
       "      <td>1</td>\n",
       "      <td>20555.21</td>\n",
       "      <td>4.398550</td>\n",
       "      <td>0.114286</td>\n",
       "      <td>17.685714</td>\n",
       "      <td>1</td>\n",
       "      <td>1</td>\n",
       "      <td>-1</td>\n",
       "      <td>1</td>\n",
       "      <td>-1</td>\n",
       "      <td>1</td>\n",
       "      <td>-1</td>\n",
       "    </tr>\n",
       "    <tr>\n",
       "      <th>8895</th>\n",
       "      <td>0</td>\n",
       "      <td>699</td>\n",
       "      <td>40</td>\n",
       "      <td>8</td>\n",
       "      <td>122038.34</td>\n",
       "      <td>1</td>\n",
       "      <td>102085.35</td>\n",
       "      <td>1.195454</td>\n",
       "      <td>0.200000</td>\n",
       "      <td>17.475000</td>\n",
       "      <td>1</td>\n",
       "      <td>-1</td>\n",
       "      <td>-1</td>\n",
       "      <td>1</td>\n",
       "      <td>-1</td>\n",
       "      <td>1</td>\n",
       "      <td>-1</td>\n",
       "    </tr>\n",
       "    <tr>\n",
       "      <th>5351</th>\n",
       "      <td>0</td>\n",
       "      <td>558</td>\n",
       "      <td>41</td>\n",
       "      <td>2</td>\n",
       "      <td>124227.14</td>\n",
       "      <td>1</td>\n",
       "      <td>111184.67</td>\n",
       "      <td>1.117305</td>\n",
       "      <td>0.048780</td>\n",
       "      <td>13.609756</td>\n",
       "      <td>1</td>\n",
       "      <td>1</td>\n",
       "      <td>-1</td>\n",
       "      <td>-1</td>\n",
       "      <td>1</td>\n",
       "      <td>-1</td>\n",
       "      <td>1</td>\n",
       "    </tr>\n",
       "    <tr>\n",
       "      <th>4314</th>\n",
       "      <td>0</td>\n",
       "      <td>638</td>\n",
       "      <td>34</td>\n",
       "      <td>5</td>\n",
       "      <td>133501.36</td>\n",
       "      <td>1</td>\n",
       "      <td>155643.04</td>\n",
       "      <td>0.857741</td>\n",
       "      <td>0.147059</td>\n",
       "      <td>18.764706</td>\n",
       "      <td>-1</td>\n",
       "      <td>1</td>\n",
       "      <td>-1</td>\n",
       "      <td>1</td>\n",
       "      <td>-1</td>\n",
       "      <td>-1</td>\n",
       "      <td>1</td>\n",
       "    </tr>\n",
       "  </tbody>\n",
       "</table>\n",
       "</div>"
      ],
      "text/plain": [
       "      Exited  CreditScore  Age  Tenure    Balance  NumOfProducts  \\\n",
       "8159       0          461   25       6       0.00              2   \n",
       "6332       0          619   35       4   90413.12              1   \n",
       "8895       0          699   40       8  122038.34              1   \n",
       "5351       0          558   41       2  124227.14              1   \n",
       "4314       0          638   34       5  133501.36              1   \n",
       "\n",
       "      EstimatedSalary  BalanceSalaryRatio  TenureByAge  CreditScoreGivenAge  \\\n",
       "8159         15306.29            0.000000     0.240000            18.440000   \n",
       "6332         20555.21            4.398550     0.114286            17.685714   \n",
       "8895        102085.35            1.195454     0.200000            17.475000   \n",
       "5351        111184.67            1.117305     0.048780            13.609756   \n",
       "4314        155643.04            0.857741     0.147059            18.764706   \n",
       "\n",
       "      HasCrCard  IsActiveMember  Geography_Spain  Geography_France  \\\n",
       "8159          1               1                1                -1   \n",
       "6332          1               1               -1                 1   \n",
       "8895          1              -1               -1                 1   \n",
       "5351          1               1               -1                -1   \n",
       "4314         -1               1               -1                 1   \n",
       "\n",
       "      Geography_Germany  Gender_Female  Gender_Male  \n",
       "8159                 -1              1           -1  \n",
       "6332                 -1              1           -1  \n",
       "8895                 -1              1           -1  \n",
       "5351                  1             -1            1  \n",
       "4314                 -1             -1            1  "
      ]
     },
     "execution_count": 18,
     "metadata": {},
     "output_type": "execute_result"
    }
   ],
   "source": [
    "lst = ['Geography', 'Gender']\n",
    "remove = list()\n",
    "for i in lst:\n",
    "    if (df_train[i].dtype == np.str or df_train[i].dtype == np.object):\n",
    "        for j in df_train[i].unique():\n",
    "            df_train[i+'_'+j] = np.where(df_train[i] == j,1,-1)\n",
    "        remove.append(i)\n",
    "df_train = df_train.drop(remove, axis=1)\n",
    "df_train.head()"
   ]
  },
  {
   "cell_type": "code",
   "execution_count": 19,
   "metadata": {},
   "outputs": [
    {
     "data": {
      "text/html": [
       "<div>\n",
       "<style scoped>\n",
       "    .dataframe tbody tr th:only-of-type {\n",
       "        vertical-align: middle;\n",
       "    }\n",
       "\n",
       "    .dataframe tbody tr th {\n",
       "        vertical-align: top;\n",
       "    }\n",
       "\n",
       "    .dataframe thead th {\n",
       "        text-align: right;\n",
       "    }\n",
       "</style>\n",
       "<table border=\"1\" class=\"dataframe\">\n",
       "  <thead>\n",
       "    <tr style=\"text-align: right;\">\n",
       "      <th></th>\n",
       "      <th>Exited</th>\n",
       "      <th>CreditScore</th>\n",
       "      <th>Age</th>\n",
       "      <th>Tenure</th>\n",
       "      <th>Balance</th>\n",
       "      <th>NumOfProducts</th>\n",
       "      <th>EstimatedSalary</th>\n",
       "      <th>BalanceSalaryRatio</th>\n",
       "      <th>TenureByAge</th>\n",
       "      <th>CreditScoreGivenAge</th>\n",
       "      <th>HasCrCard</th>\n",
       "      <th>IsActiveMember</th>\n",
       "      <th>Geography_Spain</th>\n",
       "      <th>Geography_France</th>\n",
       "      <th>Geography_Germany</th>\n",
       "      <th>Gender_Female</th>\n",
       "      <th>Gender_Male</th>\n",
       "    </tr>\n",
       "  </thead>\n",
       "  <tbody>\n",
       "    <tr>\n",
       "      <th>8159</th>\n",
       "      <td>0</td>\n",
       "      <td>0.222</td>\n",
       "      <td>0.094595</td>\n",
       "      <td>0.6</td>\n",
       "      <td>0.000000</td>\n",
       "      <td>0.333333</td>\n",
       "      <td>0.076118</td>\n",
       "      <td>0.000000</td>\n",
       "      <td>0.432000</td>\n",
       "      <td>0.323157</td>\n",
       "      <td>1</td>\n",
       "      <td>1</td>\n",
       "      <td>1</td>\n",
       "      <td>-1</td>\n",
       "      <td>-1</td>\n",
       "      <td>1</td>\n",
       "      <td>-1</td>\n",
       "    </tr>\n",
       "    <tr>\n",
       "      <th>6332</th>\n",
       "      <td>0</td>\n",
       "      <td>0.538</td>\n",
       "      <td>0.229730</td>\n",
       "      <td>0.4</td>\n",
       "      <td>0.360358</td>\n",
       "      <td>0.000000</td>\n",
       "      <td>0.102376</td>\n",
       "      <td>0.003317</td>\n",
       "      <td>0.205714</td>\n",
       "      <td>0.305211</td>\n",
       "      <td>1</td>\n",
       "      <td>1</td>\n",
       "      <td>-1</td>\n",
       "      <td>1</td>\n",
       "      <td>-1</td>\n",
       "      <td>1</td>\n",
       "      <td>-1</td>\n",
       "    </tr>\n",
       "    <tr>\n",
       "      <th>8895</th>\n",
       "      <td>0</td>\n",
       "      <td>0.698</td>\n",
       "      <td>0.297297</td>\n",
       "      <td>0.8</td>\n",
       "      <td>0.486406</td>\n",
       "      <td>0.000000</td>\n",
       "      <td>0.510225</td>\n",
       "      <td>0.000901</td>\n",
       "      <td>0.360000</td>\n",
       "      <td>0.300198</td>\n",
       "      <td>1</td>\n",
       "      <td>-1</td>\n",
       "      <td>-1</td>\n",
       "      <td>1</td>\n",
       "      <td>-1</td>\n",
       "      <td>1</td>\n",
       "      <td>-1</td>\n",
       "    </tr>\n",
       "    <tr>\n",
       "      <th>5351</th>\n",
       "      <td>0</td>\n",
       "      <td>0.416</td>\n",
       "      <td>0.310811</td>\n",
       "      <td>0.2</td>\n",
       "      <td>0.495130</td>\n",
       "      <td>0.000000</td>\n",
       "      <td>0.555744</td>\n",
       "      <td>0.000843</td>\n",
       "      <td>0.087805</td>\n",
       "      <td>0.208238</td>\n",
       "      <td>1</td>\n",
       "      <td>1</td>\n",
       "      <td>-1</td>\n",
       "      <td>-1</td>\n",
       "      <td>1</td>\n",
       "      <td>-1</td>\n",
       "      <td>1</td>\n",
       "    </tr>\n",
       "    <tr>\n",
       "      <th>4314</th>\n",
       "      <td>0</td>\n",
       "      <td>0.576</td>\n",
       "      <td>0.216216</td>\n",
       "      <td>0.5</td>\n",
       "      <td>0.532094</td>\n",
       "      <td>0.000000</td>\n",
       "      <td>0.778145</td>\n",
       "      <td>0.000647</td>\n",
       "      <td>0.264706</td>\n",
       "      <td>0.330882</td>\n",
       "      <td>-1</td>\n",
       "      <td>1</td>\n",
       "      <td>-1</td>\n",
       "      <td>1</td>\n",
       "      <td>-1</td>\n",
       "      <td>-1</td>\n",
       "      <td>1</td>\n",
       "    </tr>\n",
       "  </tbody>\n",
       "</table>\n",
       "</div>"
      ],
      "text/plain": [
       "      Exited  CreditScore       Age  Tenure   Balance  NumOfProducts  \\\n",
       "8159       0        0.222  0.094595     0.6  0.000000       0.333333   \n",
       "6332       0        0.538  0.229730     0.4  0.360358       0.000000   \n",
       "8895       0        0.698  0.297297     0.8  0.486406       0.000000   \n",
       "5351       0        0.416  0.310811     0.2  0.495130       0.000000   \n",
       "4314       0        0.576  0.216216     0.5  0.532094       0.000000   \n",
       "\n",
       "      EstimatedSalary  BalanceSalaryRatio  TenureByAge  CreditScoreGivenAge  \\\n",
       "8159         0.076118            0.000000     0.432000             0.323157   \n",
       "6332         0.102376            0.003317     0.205714             0.305211   \n",
       "8895         0.510225            0.000901     0.360000             0.300198   \n",
       "5351         0.555744            0.000843     0.087805             0.208238   \n",
       "4314         0.778145            0.000647     0.264706             0.330882   \n",
       "\n",
       "      HasCrCard  IsActiveMember  Geography_Spain  Geography_France  \\\n",
       "8159          1               1                1                -1   \n",
       "6332          1               1               -1                 1   \n",
       "8895          1              -1               -1                 1   \n",
       "5351          1               1               -1                -1   \n",
       "4314         -1               1               -1                 1   \n",
       "\n",
       "      Geography_Germany  Gender_Female  Gender_Male  \n",
       "8159                 -1              1           -1  \n",
       "6332                 -1              1           -1  \n",
       "8895                 -1              1           -1  \n",
       "5351                  1             -1            1  \n",
       "4314                 -1             -1            1  "
      ]
     },
     "execution_count": 19,
     "metadata": {},
     "output_type": "execute_result"
    }
   ],
   "source": [
    "# minMax mise à l'échelle des variables continues\n",
    "minVec = df_train[continuous_vars].min().copy()\n",
    "maxVec = df_train[continuous_vars].max().copy()\n",
    "df_train[continuous_vars] = (df_train[continuous_vars]-minVec)/(maxVec-minVec)\n",
    "df_train.head()"
   ]
  },
  {
   "cell_type": "code",
   "execution_count": 20,
   "metadata": {},
   "outputs": [],
   "source": [
    "# data prep pipeline\n",
    "def DfPrepPipeline(df_predict,df_train_Cols,minVec,maxVec):\n",
    "    # Ajouter de nouvelles fonctionnalités\n",
    "    df_predict['BalanceSalaryRatio'] = df_predict.Balance/df_predict.EstimatedSalary\n",
    "    df_predict['TenureByAge'] = df_predict.Tenure/(df_predict.Age - 18)\n",
    "    df_predict['CreditScoreGivenAge'] = df_predict.CreditScore/(df_predict.Age - 18)\n",
    "    # Réorganiser les colonnes\n",
    "    continuous_vars = ['CreditScore','Age','Tenure','Balance','NumOfProducts','EstimatedSalary','BalanceSalaryRatio',\n",
    "                   'TenureByAge','CreditScoreGivenAge']\n",
    "    cat_vars = ['HasCrCard','IsActiveMember',\"Geography\", \"Gender\"] \n",
    "    df_predict = df_predict[['Exited'] + continuous_vars + cat_vars]\n",
    "    # Changer le 0 dans les variables catégorielles par -1\n",
    "    df_predict.loc[df_predict.HasCrCard == 0, 'HasCrCard'] = -1\n",
    "    df_predict.loc[df_predict.IsActiveMember == 0, 'IsActiveMember'] = -1\n",
    "    # On encode les variables catégorielles\n",
    "    lst = [\"Geography\", \"Gender\"]\n",
    "    remove = list()\n",
    "    for i in lst:\n",
    "        for j in df_predict[i].unique():\n",
    "            df_predict[i+'_'+j] = np.where(df_predict[i] == j,1,-1)\n",
    "        remove.append(i)\n",
    "    df_predict = df_predict.drop(remove, axis=1)\n",
    "    # Assurer que toutes les variables codées qui apparaissent dans les données de train apparaissent dans les données suivantes\n",
    "    L = list(set(df_train_Cols) - set(df_predict.columns))\n",
    "    for l in L:\n",
    "        df_predict[str(l)] = -1        \n",
    "    # Variables continues de mise à l'échelle MinMax basées sur le min et le max des données du train\n",
    "    df_predict[continuous_vars] = (df_predict[continuous_vars]-minVec)/(maxVec-minVec)\n",
    "    # Assurer que les variables sont ordonnées de la même manière que dans le train set\n",
    "    df_predict = df_predict[df_train_Cols]\n",
    "    return df_predict"
   ]
  },
  {
   "cell_type": "markdown",
   "metadata": {},
   "source": [
    "## 6. Ajustement et sélection du modèle"
   ]
  },
  {
   "cell_type": "markdown",
   "metadata": {},
   "source": [
    "Pour l'essayage du modèle, je vais essayer ce qui suit\n",
    "\n",
    "- Régression logistique dans l'espace primal et avec différents noyaux\n",
    "- SVM dans le primal et avec différents noyaux\n",
    "- Modèles d'ensemble"
   ]
  },
  {
   "cell_type": "code",
   "execution_count": 21,
   "metadata": {},
   "outputs": [],
   "source": [
    "# fonctions de support\n",
    "from sklearn.preprocessing import PolynomialFeatures\n",
    "from sklearn.model_selection import cross_val_score\n",
    "from sklearn.model_selection import GridSearchCV\n",
    "from scipy.stats import uniform\n",
    "\n",
    "# Ajuster les modèles\n",
    "from sklearn.linear_model import LogisticRegression\n",
    "from sklearn.svm import SVC\n",
    "from sklearn.ensemble import RandomForestClassifier\n",
    "from xgboost import XGBClassifier\n",
    "\n",
    "\n",
    "# Fonctions de scoring\n",
    "from sklearn.metrics import accuracy_score\n",
    "from sklearn.metrics import classification_report\n",
    "from sklearn.metrics import roc_auc_score\n",
    "from sklearn.metrics import roc_curve"
   ]
  },
  {
   "cell_type": "markdown",
   "metadata": {},
   "source": [
    "#### Ajuster les meilleurs modèles"
   ]
  },
  {
   "cell_type": "code",
   "execution_count": 22,
   "metadata": {},
   "outputs": [
    {
     "data": {
      "text/plain": [
       "LogisticRegression(C=100, max_iter=250, multi_class='ovr', tol=1e-05)"
      ]
     },
     "execution_count": 22,
     "metadata": {},
     "output_type": "execute_result"
    }
   ],
   "source": [
    "# Fit primal logistic regression\n",
    "log_primal = LogisticRegression(C=100, class_weight=None, dual=False, fit_intercept=True,intercept_scaling=1, max_iter=250, multi_class='ovr',\n",
    "                                n_jobs=None, penalty='l2', random_state=None, solver='lbfgs',tol=1e-05, verbose=0, warm_start=False)\n",
    "log_primal.fit(df_train.loc[:, df_train.columns != 'Exited'],df_train.Exited)"
   ]
  },
  {
   "cell_type": "code",
   "execution_count": 23,
   "metadata": {},
   "outputs": [
    {
     "data": {
      "text/plain": [
       "LogisticRegression(C=10, max_iter=300, multi_class='ovr', solver='liblinear')"
      ]
     },
     "execution_count": 23,
     "metadata": {},
     "output_type": "execute_result"
    }
   ],
   "source": [
    "# Fit logistic regression with pol 2 kernel\n",
    "poly2 = PolynomialFeatures(degree=2)\n",
    "df_train_pol2 = poly2.fit_transform(df_train.loc[:, df_train.columns != 'Exited'])\n",
    "log_pol2 = LogisticRegression(C=10, class_weight=None, dual=False, fit_intercept=True,intercept_scaling=1, max_iter=300, multi_class='ovr', n_jobs=None, \n",
    "                              penalty='l2', random_state=None, solver='liblinear',tol=0.0001, verbose=0, warm_start=False)\n",
    "log_pol2.fit(df_train_pol2,df_train.Exited)"
   ]
  },
  {
   "cell_type": "code",
   "execution_count": 24,
   "metadata": {},
   "outputs": [
    {
     "data": {
      "text/plain": [
       "SVC(C=100, gamma=0.1, probability=True)"
      ]
     },
     "execution_count": 24,
     "metadata": {},
     "output_type": "execute_result"
    }
   ],
   "source": [
    "# Fit SVM with RBF Kernel\n",
    "SVM_RBF = SVC(C=100, cache_size=200, class_weight=None, coef0=0.0, decision_function_shape='ovr', degree=3, gamma=0.1, kernel='rbf', max_iter=-1, probability=True, \n",
    "              random_state=None, shrinking=True,tol=0.001, verbose=False)\n",
    "SVM_RBF.fit(df_train.loc[:, df_train.columns != 'Exited'],df_train.Exited)"
   ]
  },
  {
   "cell_type": "code",
   "execution_count": 25,
   "metadata": {},
   "outputs": [
    {
     "data": {
      "text/plain": [
       "SVC(C=100, degree=2, gamma=0.1, kernel='poly', probability=True)"
      ]
     },
     "execution_count": 25,
     "metadata": {},
     "output_type": "execute_result"
    }
   ],
   "source": [
    "# Fit SVM with Pol Kernel\n",
    "SVM_POL = SVC(C=100, cache_size=200, class_weight=None, coef0=0.0,  decision_function_shape='ovr', degree=2, gamma=0.1, kernel='poly',  max_iter=-1,\n",
    "              probability=True, random_state=None, shrinking=True, tol=0.001, verbose=False)\n",
    "SVM_POL.fit(df_train.loc[:, df_train.columns != 'Exited'],df_train.Exited)"
   ]
  },
  {
   "cell_type": "code",
   "execution_count": 26,
   "metadata": {},
   "outputs": [
    {
     "data": {
      "text/plain": [
       "RandomForestClassifier(max_depth=8, max_features=6, min_samples_split=3,\n",
       "                       n_estimators=50)"
      ]
     },
     "execution_count": 26,
     "metadata": {},
     "output_type": "execute_result"
    }
   ],
   "source": [
    "# Fit Random Forest classifier\n",
    "RF = RandomForestClassifier(bootstrap=True, class_weight=None, criterion='gini',max_depth=8, max_features=6, max_leaf_nodes=None,min_impurity_decrease=0.0,\n",
    "                            min_impurity_split=None,min_samples_leaf=1, min_samples_split=3,min_weight_fraction_leaf=0.0, n_estimators=50, n_jobs=None,\n",
    "                            oob_score=False, random_state=None, verbose=0,warm_start=False)\n",
    "RF.fit(df_train.loc[:, df_train.columns != 'Exited'],df_train.Exited)"
   ]
  },
  {
   "cell_type": "code",
   "execution_count": 28,
   "metadata": {},
   "outputs": [
    {
     "data": {
      "text/plain": [
       "XGBClassifier(base_score=0.5, booster='gbtree', colsample_bylevel=1,\n",
       "              colsample_bynode=1, colsample_bytree=1, eval_metric='mlogloss',\n",
       "              gamma=0.01, gpu_id=-1, importance_type='gain',\n",
       "              interaction_constraints='', learning_rate=0.1, max_delta_step=0,\n",
       "              max_depth=7, min_child_weight=5, missing=1,\n",
       "              monotone_constraints='()', n_estimators=20, n_jobs=1, nthread=1,\n",
       "              num_parallel_tree=1, random_state=0, reg_alpha=0, reg_lambda=1,\n",
       "              scale_pos_weight=1, seed=42, subsample=1, tree_method='exact',\n",
       "              validate_parameters=1, verbosity=None)"
      ]
     },
     "execution_count": 28,
     "metadata": {},
     "output_type": "execute_result"
    }
   ],
   "source": [
    "# Fit Extreme Gradient Boost Classifier\n",
    "XGB = XGBClassifier(base_score=0.5, booster='gbtree', colsample_bylevel=1,colsample_bytree=1, gamma=0.01, learning_rate=0.1, max_delta_step=0,max_depth=7,\n",
    "                    min_child_weight=5, missing=1, n_estimators=20,n_jobs=1, nthread=None, objective='binary:logistic', random_state=0,reg_alpha=0, \n",
    "                    reg_lambda=1, scale_pos_weight=1, seed=42,subsample=1, eval_metric='mlogloss')#,warm_start=False)\n",
    "XGB.fit(df_train.loc[:, df_train.columns != 'Exited'],df_train.Exited)"
   ]
  },
  {
   "cell_type": "code",
   "execution_count": 29,
   "metadata": {},
   "outputs": [
    {
     "name": "stdout",
     "output_type": "stream",
     "text": [
      "              precision    recall  f1-score   support\n",
      "\n",
      "           0       0.83      0.97      0.89      6353\n",
      "           1       0.64      0.24      0.35      1647\n",
      "\n",
      "    accuracy                           0.82      8000\n",
      "   macro avg       0.73      0.60      0.62      8000\n",
      "weighted avg       0.79      0.82      0.78      8000\n",
      "\n"
     ]
    }
   ],
   "source": [
    "print(classification_report(df_train.Exited, log_primal.predict(df_train.loc[:, df_train.columns != 'Exited'])))"
   ]
  },
  {
   "cell_type": "code",
   "execution_count": 30,
   "metadata": {},
   "outputs": [
    {
     "name": "stdout",
     "output_type": "stream",
     "text": [
      "              precision    recall  f1-score   support\n",
      "\n",
      "           0       0.87      0.97      0.92      6353\n",
      "           1       0.77      0.46      0.57      1647\n",
      "\n",
      "    accuracy                           0.86      8000\n",
      "   macro avg       0.82      0.71      0.75      8000\n",
      "weighted avg       0.85      0.86      0.85      8000\n",
      "\n"
     ]
    }
   ],
   "source": [
    "print(classification_report(df_train.Exited,  log_pol2.predict(df_train_pol2)))"
   ]
  },
  {
   "cell_type": "code",
   "execution_count": 31,
   "metadata": {},
   "outputs": [
    {
     "name": "stdout",
     "output_type": "stream",
     "text": [
      "              precision    recall  f1-score   support\n",
      "\n",
      "           0       0.86      0.98      0.92      6353\n",
      "           1       0.85      0.40      0.54      1647\n",
      "\n",
      "    accuracy                           0.86      8000\n",
      "   macro avg       0.86      0.69      0.73      8000\n",
      "weighted avg       0.86      0.86      0.84      8000\n",
      "\n"
     ]
    }
   ],
   "source": [
    "print(classification_report(df_train.Exited,  SVM_RBF.predict(df_train.loc[:, df_train.columns != 'Exited'])))"
   ]
  },
  {
   "cell_type": "code",
   "execution_count": 32,
   "metadata": {},
   "outputs": [
    {
     "name": "stdout",
     "output_type": "stream",
     "text": [
      "              precision    recall  f1-score   support\n",
      "\n",
      "           0       0.86      0.98      0.92      6353\n",
      "           1       0.84      0.38      0.52      1647\n",
      "\n",
      "    accuracy                           0.86      8000\n",
      "   macro avg       0.85      0.68      0.72      8000\n",
      "weighted avg       0.85      0.86      0.83      8000\n",
      "\n"
     ]
    }
   ],
   "source": [
    "print(classification_report(df_train.Exited,  SVM_POL.predict(df_train.loc[:, df_train.columns != 'Exited'])))"
   ]
  },
  {
   "cell_type": "code",
   "execution_count": 33,
   "metadata": {},
   "outputs": [
    {
     "name": "stdout",
     "output_type": "stream",
     "text": [
      "              precision    recall  f1-score   support\n",
      "\n",
      "           0       0.89      0.98      0.93      6353\n",
      "           1       0.89      0.52      0.66      1647\n",
      "\n",
      "    accuracy                           0.89      8000\n",
      "   macro avg       0.89      0.75      0.79      8000\n",
      "weighted avg       0.89      0.89      0.88      8000\n",
      "\n"
     ]
    }
   ],
   "source": [
    "print(classification_report(df_train.Exited,  RF.predict(df_train.loc[:, df_train.columns != 'Exited'])))"
   ]
  },
  {
   "cell_type": "code",
   "execution_count": 34,
   "metadata": {},
   "outputs": [
    {
     "name": "stdout",
     "output_type": "stream",
     "text": [
      "              precision    recall  f1-score   support\n",
      "\n",
      "           0       0.89      0.97      0.93      6353\n",
      "           1       0.83      0.53      0.65      1647\n",
      "\n",
      "    accuracy                           0.88      8000\n",
      "   macro avg       0.86      0.75      0.79      8000\n",
      "weighted avg       0.88      0.88      0.87      8000\n",
      "\n"
     ]
    }
   ],
   "source": [
    "print(classification_report(df_train.Exited,  XGB.predict(df_train.loc[:, df_train.columns != 'Exited'])))"
   ]
  },
  {
   "cell_type": "code",
   "execution_count": 38,
   "metadata": {},
   "outputs": [],
   "source": [
    "# Fonction pour donner le meilleur score et les meilleurs paramètres du modèle\n",
    "def get_auc_scores(y_actual, method,method2):\n",
    "    auc_score = roc_auc_score(y_actual, method); \n",
    "    fpr_df, tpr_df, _ = roc_curve(y_actual, method2); \n",
    "    return (auc_score, fpr_df, tpr_df)"
   ]
  },
  {
   "cell_type": "code",
   "execution_count": 39,
   "metadata": {},
   "outputs": [],
   "source": [
    "y = df_train.Exited\n",
    "X = df_train.loc[:, df_train.columns != 'Exited']\n",
    "X_pol2 = df_train_pol2\n",
    "auc_log_primal, fpr_log_primal, tpr_log_primal = get_auc_scores(y, log_primal.predict(X),log_primal.predict_proba(X)[:,1])\n",
    "auc_log_pol2, fpr_log_pol2, tpr_log_pol2 = get_auc_scores(y, log_pol2.predict(X_pol2),log_pol2.predict_proba(X_pol2)[:,1])\n",
    "auc_SVM_RBF, fpr_SVM_RBF, tpr_SVM_RBF = get_auc_scores(y, SVM_RBF.predict(X),SVM_RBF.predict_proba(X)[:,1])\n",
    "auc_SVM_POL, fpr_SVM_POL, tpr_SVM_POL = get_auc_scores(y, SVM_POL.predict(X),SVM_POL.predict_proba(X)[:,1])\n",
    "auc_RF, fpr_RF, tpr_RF = get_auc_scores(y, RF.predict(X),RF.predict_proba(X)[:,1])\n",
    "auc_XGB, fpr_XGB, tpr_XGB = get_auc_scores(y, XGB.predict(X),XGB.predict_proba(X)[:,1])"
   ]
  },
  {
   "cell_type": "code",
   "execution_count": 40,
   "metadata": {},
   "outputs": [
    {
     "data": {
      "image/png": "[encoded data removed]",
      "text/plain": [
       "<Figure size 432x288 with 1 Axes>"
      ]
     },
     "metadata": {
      "needs_background": "light"
     },
     "output_type": "display_data"
    }
   ],
   "source": [
    "plt.plot(fpr_log_primal, tpr_log_primal, label = 'log primal Score: ' + str(round(auc_log_primal, 5)))\n",
    "plt.plot(fpr_log_pol2, tpr_log_pol2, label = 'log pol2 score: ' + str(round(auc_log_pol2, 5)))\n",
    "plt.plot(fpr_SVM_RBF, tpr_SVM_RBF, label = 'SVM RBF Score: ' + str(round(auc_SVM_RBF, 5)))\n",
    "plt.plot(fpr_SVM_POL, tpr_SVM_POL, label = 'SVM POL Score: ' + str(round(auc_SVM_POL, 5)))\n",
    "plt.plot(fpr_RF, tpr_RF, label = 'RF score: ' + str(round(auc_RF, 5)))\n",
    "plt.plot(fpr_XGB, tpr_XGB, label = 'XGB score: ' + str(round(auc_XGB, 5)))\n",
    "plt.plot([0,1], [0,1], 'k--', label = 'Random: 0.5')\n",
    "plt.xlabel('Taux de faux positifs')\n",
    "plt.ylabel('Taux de vrais positifs')\n",
    "plt.title('ROC Courbe')\n",
    "plt.legend(loc='best')\n",
    "#plt.savefig('roc_results_ratios.png')\n",
    "plt.show()"
   ]
  },
  {
   "cell_type": "markdown",
   "metadata": {},
   "source": [
    "À partir des résultats ci-dessus, mon objectif principal est de prédire les clients qui seront éventuellement désengagés afin qu'ils puissent être placés dans une sorte de schéma pour éviter le désengagement. Par conséquent, les mesures de rappel sur les 1 sont plus importantes pour moi que le score de précision global du maquette."
   ]
  },
  {
   "cell_type": "markdown",
   "metadata": {},
   "source": [
    "Étant donné que dans les données nous n'avions que 20% de désabonnement, un rappel supérieur à cette référence sera déjà une amélioration mais nous voulons atteindre le plus haut possible tout en essayant de maintenir une haute précision afin que la banque puisse former efficacement ses ressources vers clients mis en évidence par le modèle sans gaspiller trop de ressources sur les faux positifs."
   ]
  },
  {
   "cell_type": "markdown",
   "metadata": {},
   "source": [
    "D'après l'examen des modèles ajustés ci-dessus, le meilleur modèle qui offre un équilibre décent entre le rappel et la précision est la forêt aléatoire où, selon l'ajustement sur l'ensemble d'entraînement, avec un score de précision sur 1 de 0,88, sur tous les clients qui le modèle pense qu'il y aura un taux de désabonnement, 88% le font réellement et avec un score de rappel de 0,53 sur les 1, le modèle est capable de mettre en évidence 53% de tous ceux qui ont engagés."
   ]
  },
  {
   "cell_type": "markdown",
   "metadata": {},
   "source": [
    "### Tester la précision de la prédiction du modèle sur les données de test"
   ]
  },
  {
   "cell_type": "code",
   "execution_count": 41,
   "metadata": {},
   "outputs": [
    {
     "data": {
      "text/plain": [
       "(1996, 17)"
      ]
     },
     "execution_count": 41,
     "metadata": {},
     "output_type": "execute_result"
    }
   ],
   "source": [
    "# Effectuer la transformation des données pour les données de test\n",
    "df_test = DfPrepPipeline(df_test,df_train.columns,minVec,maxVec)\n",
    "df_test = df_test.mask(np.isinf(df_test))\n",
    "df_test = df_test.dropna()\n",
    "df_test.shape"
   ]
  },
  {
   "cell_type": "code",
   "execution_count": 42,
   "metadata": {},
   "outputs": [
    {
     "name": "stdout",
     "output_type": "stream",
     "text": [
      "              precision    recall  f1-score   support\n",
      "\n",
      "           0       0.87      0.98      0.92      1607\n",
      "           1       0.81      0.41      0.54       389\n",
      "\n",
      "    accuracy                           0.87      1996\n",
      "   macro avg       0.84      0.69      0.73      1996\n",
      "weighted avg       0.86      0.87      0.85      1996\n",
      "\n"
     ]
    }
   ],
   "source": [
    "print(classification_report(df_test.Exited,  RF.predict(df_test.loc[:, df_test.columns != 'Exited'])))"
   ]
  },
  {
   "cell_type": "code",
   "execution_count": 43,
   "metadata": {},
   "outputs": [
    {
     "data": {
      "image/png": "[encoded data removed]",
      "text/plain": [
       "<Figure size 864x432 with 1 Axes>"
      ]
     },
     "metadata": {
      "needs_background": "light"
     },
     "output_type": "display_data"
    }
   ],
   "source": [
    "auc_RF_test, fpr_RF_test, tpr_RF_test = get_auc_scores(df_test.Exited, RF.predict(df_test.loc[:, df_test.columns != 'Exited']),\n",
    "                                                       RF.predict_proba(df_test.loc[:, df_test.columns != 'Exited'])[:,1])\n",
    "plt.figure(figsize = (12,6), linewidth= 1)\n",
    "plt.plot(fpr_RF_test, tpr_RF_test, label = 'RF score: ' + str(round(auc_RF_test, 5)))\n",
    "plt.plot([0,1], [0,1], 'k--', label = 'Random: 0.5')\n",
    "plt.xlabel('Taux de faux positifs')\n",
    "plt.ylabel('Taux de vrais positifs')\n",
    "plt.title('ROC Courbe')\n",
    "plt.legend(loc='best')\n",
    "#plt.savefig('roc_results_ratios.png')\n",
    "plt.show()"
   ]
  },
  {
   "cell_type": "markdown",
   "metadata": {},
   "source": [
    "## 7. Conclusion"
   ]
  },
  {
   "cell_type": "markdown",
   "metadata": {},
   "source": [
    "La précision du modèle sur des données de test inédites est légèrement plus élevée en ce qui concerne la prédiction des 1, c'est-à-dire les clients qui sont désengager. Cependant, dans la mesure où le modèle a une grande précision, il manque encore environ la moitié de ceux qui finissent par désengagement. Cela pourrait être amélioré en permettant de recycler le modèle avec plus de données au fil du temps tout en travaillant avec le modèle pour économiser les 41 % qui auraient été désengagés."
   ]
  }
 ],
 "metadata": {
  "kernelspec": {
   "display_name": "Python 3",
   "language": "python",
   "name": "python3"
  },
  "language_info": {
   "codemirror_mode": {
    "name": "ipython",
    "version": 3
   },
   "file_extension": ".py",
   "mimetype": "text/x-python",
   "name": "python",
   "nbconvert_exporter": "python",
   "pygments_lexer": "ipython3",
   "version": "3.8.5"
  }
 },
 "nbformat": 4,
 "nbformat_minor": 4
}
